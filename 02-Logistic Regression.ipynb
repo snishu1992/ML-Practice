{
 "cells": [
  {
   "cell_type": "markdown",
   "id": "5b06bc4f-3ae4-4178-b410-fbf51db8cd11",
   "metadata": {},
   "source": [
    "# Steps to Perform Logistic Regression"
   ]
  },
  {
   "cell_type": "markdown",
   "id": "b474e857-81bb-4aa6-b9e5-8239a131d65c",
   "metadata": {},
   "source": [
    "## Import Libraries"
   ]
  },
  {
   "cell_type": "code",
   "execution_count": 99,
   "id": "6a8d088a-7d11-41b5-8334-f33789aca67b",
   "metadata": {},
   "outputs": [],
   "source": [
    "from sklearn.linear_model import LogisticRegression\n",
    "from sklearn.model_selection import train_test_split\n",
    "from sklearn.metrics import accuracy_score, confusion_matrix, classification_report\n",
    "\n",
    "from sklearn.datasets import load_breast_cancer\n",
    "import pandas as pd\n",
    "import matplotlib.pyplot as plt\n",
    "import numpy as np\n",
    "\n",
    "from sklearn.decomposition import PCA"
   ]
  },
  {
   "cell_type": "markdown",
   "id": "40986831-6244-4787-9f36-b0ac8c0b8e60",
   "metadata": {
    "jp-MarkdownHeadingCollapsed": true
   },
   "source": [
    "## Prepare the Data"
   ]
  },
  {
   "cell_type": "code",
   "execution_count": 101,
   "id": "e7a25ac5-5d1d-4406-8764-eb05d9b379db",
   "metadata": {},
   "outputs": [],
   "source": [
    "data = load_breast_cancer()\n",
    "X = pd.DataFrame(data.data, columns=data.feature_names)\n",
    "y = pd.Series(data.target)"
   ]
  },
  {
   "cell_type": "markdown",
   "id": "2598793d-8fc4-42f3-a69c-bfbe0f19cacc",
   "metadata": {},
   "source": [
    "## Reduce Input Features"
   ]
  },
  {
   "cell_type": "code",
   "execution_count": 103,
   "id": "871790f7-b889-4251-9a4d-8da8c1dd15f4",
   "metadata": {},
   "outputs": [],
   "source": [
    "# Reduce features to 2 dimensions for visualization using PCA\n",
    "pca = PCA(n_components=2)\n",
    "X_pca = pca.fit_transform(X)"
   ]
  },
  {
   "cell_type": "markdown",
   "id": "09526c76-8d81-4f62-9b63-b85fd06bf957",
   "metadata": {
    "jp-MarkdownHeadingCollapsed": true
   },
   "source": [
    "## Split data into training and testing sets"
   ]
  },
  {
   "cell_type": "code",
   "execution_count": 105,
   "id": "6a502267-33e9-4663-945f-f6cc6a4c204a",
   "metadata": {},
   "outputs": [],
   "source": [
    "X_train, X_test, y_train, y_test = train_test_split(X_pca, y, test_size=0.3, random_state=42)"
   ]
  },
  {
   "cell_type": "markdown",
   "id": "f7319a69-df1a-4167-9543-170b67f708de",
   "metadata": {
    "jp-MarkdownHeadingCollapsed": true
   },
   "source": [
    "## Train The Model"
   ]
  },
  {
   "cell_type": "code",
   "execution_count": 107,
   "id": "82722dcb-eb69-4114-ba5a-2ac2d7e4e8e9",
   "metadata": {},
   "outputs": [
    {
     "data": {
      "text/html": [
       "<style>#sk-container-id-2 {\n",
       "  /* Definition of color scheme common for light and dark mode */\n",
       "  --sklearn-color-text: black;\n",
       "  --sklearn-color-line: gray;\n",
       "  /* Definition of color scheme for unfitted estimators */\n",
       "  --sklearn-color-unfitted-level-0: #fff5e6;\n",
       "  --sklearn-color-unfitted-level-1: #f6e4d2;\n",
       "  --sklearn-color-unfitted-level-2: #ffe0b3;\n",
       "  --sklearn-color-unfitted-level-3: chocolate;\n",
       "  /* Definition of color scheme for fitted estimators */\n",
       "  --sklearn-color-fitted-level-0: #f0f8ff;\n",
       "  --sklearn-color-fitted-level-1: #d4ebff;\n",
       "  --sklearn-color-fitted-level-2: #b3dbfd;\n",
       "  --sklearn-color-fitted-level-3: cornflowerblue;\n",
       "\n",
       "  /* Specific color for light theme */\n",
       "  --sklearn-color-text-on-default-background: var(--sg-text-color, var(--theme-code-foreground, var(--jp-content-font-color1, black)));\n",
       "  --sklearn-color-background: var(--sg-background-color, var(--theme-background, var(--jp-layout-color0, white)));\n",
       "  --sklearn-color-border-box: var(--sg-text-color, var(--theme-code-foreground, var(--jp-content-font-color1, black)));\n",
       "  --sklearn-color-icon: #696969;\n",
       "\n",
       "  @media (prefers-color-scheme: dark) {\n",
       "    /* Redefinition of color scheme for dark theme */\n",
       "    --sklearn-color-text-on-default-background: var(--sg-text-color, var(--theme-code-foreground, var(--jp-content-font-color1, white)));\n",
       "    --sklearn-color-background: var(--sg-background-color, var(--theme-background, var(--jp-layout-color0, #111)));\n",
       "    --sklearn-color-border-box: var(--sg-text-color, var(--theme-code-foreground, var(--jp-content-font-color1, white)));\n",
       "    --sklearn-color-icon: #878787;\n",
       "  }\n",
       "}\n",
       "\n",
       "#sk-container-id-2 {\n",
       "  color: var(--sklearn-color-text);\n",
       "}\n",
       "\n",
       "#sk-container-id-2 pre {\n",
       "  padding: 0;\n",
       "}\n",
       "\n",
       "#sk-container-id-2 input.sk-hidden--visually {\n",
       "  border: 0;\n",
       "  clip: rect(1px 1px 1px 1px);\n",
       "  clip: rect(1px, 1px, 1px, 1px);\n",
       "  height: 1px;\n",
       "  margin: -1px;\n",
       "  overflow: hidden;\n",
       "  padding: 0;\n",
       "  position: absolute;\n",
       "  width: 1px;\n",
       "}\n",
       "\n",
       "#sk-container-id-2 div.sk-dashed-wrapped {\n",
       "  border: 1px dashed var(--sklearn-color-line);\n",
       "  margin: 0 0.4em 0.5em 0.4em;\n",
       "  box-sizing: border-box;\n",
       "  padding-bottom: 0.4em;\n",
       "  background-color: var(--sklearn-color-background);\n",
       "}\n",
       "\n",
       "#sk-container-id-2 div.sk-container {\n",
       "  /* jupyter's `normalize.less` sets `[hidden] { display: none; }`\n",
       "     but bootstrap.min.css set `[hidden] { display: none !important; }`\n",
       "     so we also need the `!important` here to be able to override the\n",
       "     default hidden behavior on the sphinx rendered scikit-learn.org.\n",
       "     See: https://github.com/scikit-learn/scikit-learn/issues/21755 */\n",
       "  display: inline-block !important;\n",
       "  position: relative;\n",
       "}\n",
       "\n",
       "#sk-container-id-2 div.sk-text-repr-fallback {\n",
       "  display: none;\n",
       "}\n",
       "\n",
       "div.sk-parallel-item,\n",
       "div.sk-serial,\n",
       "div.sk-item {\n",
       "  /* draw centered vertical line to link estimators */\n",
       "  background-image: linear-gradient(var(--sklearn-color-text-on-default-background), var(--sklearn-color-text-on-default-background));\n",
       "  background-size: 2px 100%;\n",
       "  background-repeat: no-repeat;\n",
       "  background-position: center center;\n",
       "}\n",
       "\n",
       "/* Parallel-specific style estimator block */\n",
       "\n",
       "#sk-container-id-2 div.sk-parallel-item::after {\n",
       "  content: \"\";\n",
       "  width: 100%;\n",
       "  border-bottom: 2px solid var(--sklearn-color-text-on-default-background);\n",
       "  flex-grow: 1;\n",
       "}\n",
       "\n",
       "#sk-container-id-2 div.sk-parallel {\n",
       "  display: flex;\n",
       "  align-items: stretch;\n",
       "  justify-content: center;\n",
       "  background-color: var(--sklearn-color-background);\n",
       "  position: relative;\n",
       "}\n",
       "\n",
       "#sk-container-id-2 div.sk-parallel-item {\n",
       "  display: flex;\n",
       "  flex-direction: column;\n",
       "}\n",
       "\n",
       "#sk-container-id-2 div.sk-parallel-item:first-child::after {\n",
       "  align-self: flex-end;\n",
       "  width: 50%;\n",
       "}\n",
       "\n",
       "#sk-container-id-2 div.sk-parallel-item:last-child::after {\n",
       "  align-self: flex-start;\n",
       "  width: 50%;\n",
       "}\n",
       "\n",
       "#sk-container-id-2 div.sk-parallel-item:only-child::after {\n",
       "  width: 0;\n",
       "}\n",
       "\n",
       "/* Serial-specific style estimator block */\n",
       "\n",
       "#sk-container-id-2 div.sk-serial {\n",
       "  display: flex;\n",
       "  flex-direction: column;\n",
       "  align-items: center;\n",
       "  background-color: var(--sklearn-color-background);\n",
       "  padding-right: 1em;\n",
       "  padding-left: 1em;\n",
       "}\n",
       "\n",
       "\n",
       "/* Toggleable style: style used for estimator/Pipeline/ColumnTransformer box that is\n",
       "clickable and can be expanded/collapsed.\n",
       "- Pipeline and ColumnTransformer use this feature and define the default style\n",
       "- Estimators will overwrite some part of the style using the `sk-estimator` class\n",
       "*/\n",
       "\n",
       "/* Pipeline and ColumnTransformer style (default) */\n",
       "\n",
       "#sk-container-id-2 div.sk-toggleable {\n",
       "  /* Default theme specific background. It is overwritten whether we have a\n",
       "  specific estimator or a Pipeline/ColumnTransformer */\n",
       "  background-color: var(--sklearn-color-background);\n",
       "}\n",
       "\n",
       "/* Toggleable label */\n",
       "#sk-container-id-2 label.sk-toggleable__label {\n",
       "  cursor: pointer;\n",
       "  display: block;\n",
       "  width: 100%;\n",
       "  margin-bottom: 0;\n",
       "  padding: 0.5em;\n",
       "  box-sizing: border-box;\n",
       "  text-align: center;\n",
       "}\n",
       "\n",
       "#sk-container-id-2 label.sk-toggleable__label-arrow:before {\n",
       "  /* Arrow on the left of the label */\n",
       "  content: \"▸\";\n",
       "  float: left;\n",
       "  margin-right: 0.25em;\n",
       "  color: var(--sklearn-color-icon);\n",
       "}\n",
       "\n",
       "#sk-container-id-2 label.sk-toggleable__label-arrow:hover:before {\n",
       "  color: var(--sklearn-color-text);\n",
       "}\n",
       "\n",
       "/* Toggleable content - dropdown */\n",
       "\n",
       "#sk-container-id-2 div.sk-toggleable__content {\n",
       "  max-height: 0;\n",
       "  max-width: 0;\n",
       "  overflow: hidden;\n",
       "  text-align: left;\n",
       "  /* unfitted */\n",
       "  background-color: var(--sklearn-color-unfitted-level-0);\n",
       "}\n",
       "\n",
       "#sk-container-id-2 div.sk-toggleable__content.fitted {\n",
       "  /* fitted */\n",
       "  background-color: var(--sklearn-color-fitted-level-0);\n",
       "}\n",
       "\n",
       "#sk-container-id-2 div.sk-toggleable__content pre {\n",
       "  margin: 0.2em;\n",
       "  border-radius: 0.25em;\n",
       "  color: var(--sklearn-color-text);\n",
       "  /* unfitted */\n",
       "  background-color: var(--sklearn-color-unfitted-level-0);\n",
       "}\n",
       "\n",
       "#sk-container-id-2 div.sk-toggleable__content.fitted pre {\n",
       "  /* unfitted */\n",
       "  background-color: var(--sklearn-color-fitted-level-0);\n",
       "}\n",
       "\n",
       "#sk-container-id-2 input.sk-toggleable__control:checked~div.sk-toggleable__content {\n",
       "  /* Expand drop-down */\n",
       "  max-height: 200px;\n",
       "  max-width: 100%;\n",
       "  overflow: auto;\n",
       "}\n",
       "\n",
       "#sk-container-id-2 input.sk-toggleable__control:checked~label.sk-toggleable__label-arrow:before {\n",
       "  content: \"▾\";\n",
       "}\n",
       "\n",
       "/* Pipeline/ColumnTransformer-specific style */\n",
       "\n",
       "#sk-container-id-2 div.sk-label input.sk-toggleable__control:checked~label.sk-toggleable__label {\n",
       "  color: var(--sklearn-color-text);\n",
       "  background-color: var(--sklearn-color-unfitted-level-2);\n",
       "}\n",
       "\n",
       "#sk-container-id-2 div.sk-label.fitted input.sk-toggleable__control:checked~label.sk-toggleable__label {\n",
       "  background-color: var(--sklearn-color-fitted-level-2);\n",
       "}\n",
       "\n",
       "/* Estimator-specific style */\n",
       "\n",
       "/* Colorize estimator box */\n",
       "#sk-container-id-2 div.sk-estimator input.sk-toggleable__control:checked~label.sk-toggleable__label {\n",
       "  /* unfitted */\n",
       "  background-color: var(--sklearn-color-unfitted-level-2);\n",
       "}\n",
       "\n",
       "#sk-container-id-2 div.sk-estimator.fitted input.sk-toggleable__control:checked~label.sk-toggleable__label {\n",
       "  /* fitted */\n",
       "  background-color: var(--sklearn-color-fitted-level-2);\n",
       "}\n",
       "\n",
       "#sk-container-id-2 div.sk-label label.sk-toggleable__label,\n",
       "#sk-container-id-2 div.sk-label label {\n",
       "  /* The background is the default theme color */\n",
       "  color: var(--sklearn-color-text-on-default-background);\n",
       "}\n",
       "\n",
       "/* On hover, darken the color of the background */\n",
       "#sk-container-id-2 div.sk-label:hover label.sk-toggleable__label {\n",
       "  color: var(--sklearn-color-text);\n",
       "  background-color: var(--sklearn-color-unfitted-level-2);\n",
       "}\n",
       "\n",
       "/* Label box, darken color on hover, fitted */\n",
       "#sk-container-id-2 div.sk-label.fitted:hover label.sk-toggleable__label.fitted {\n",
       "  color: var(--sklearn-color-text);\n",
       "  background-color: var(--sklearn-color-fitted-level-2);\n",
       "}\n",
       "\n",
       "/* Estimator label */\n",
       "\n",
       "#sk-container-id-2 div.sk-label label {\n",
       "  font-family: monospace;\n",
       "  font-weight: bold;\n",
       "  display: inline-block;\n",
       "  line-height: 1.2em;\n",
       "}\n",
       "\n",
       "#sk-container-id-2 div.sk-label-container {\n",
       "  text-align: center;\n",
       "}\n",
       "\n",
       "/* Estimator-specific */\n",
       "#sk-container-id-2 div.sk-estimator {\n",
       "  font-family: monospace;\n",
       "  border: 1px dotted var(--sklearn-color-border-box);\n",
       "  border-radius: 0.25em;\n",
       "  box-sizing: border-box;\n",
       "  margin-bottom: 0.5em;\n",
       "  /* unfitted */\n",
       "  background-color: var(--sklearn-color-unfitted-level-0);\n",
       "}\n",
       "\n",
       "#sk-container-id-2 div.sk-estimator.fitted {\n",
       "  /* fitted */\n",
       "  background-color: var(--sklearn-color-fitted-level-0);\n",
       "}\n",
       "\n",
       "/* on hover */\n",
       "#sk-container-id-2 div.sk-estimator:hover {\n",
       "  /* unfitted */\n",
       "  background-color: var(--sklearn-color-unfitted-level-2);\n",
       "}\n",
       "\n",
       "#sk-container-id-2 div.sk-estimator.fitted:hover {\n",
       "  /* fitted */\n",
       "  background-color: var(--sklearn-color-fitted-level-2);\n",
       "}\n",
       "\n",
       "/* Specification for estimator info (e.g. \"i\" and \"?\") */\n",
       "\n",
       "/* Common style for \"i\" and \"?\" */\n",
       "\n",
       ".sk-estimator-doc-link,\n",
       "a:link.sk-estimator-doc-link,\n",
       "a:visited.sk-estimator-doc-link {\n",
       "  float: right;\n",
       "  font-size: smaller;\n",
       "  line-height: 1em;\n",
       "  font-family: monospace;\n",
       "  background-color: var(--sklearn-color-background);\n",
       "  border-radius: 1em;\n",
       "  height: 1em;\n",
       "  width: 1em;\n",
       "  text-decoration: none !important;\n",
       "  margin-left: 1ex;\n",
       "  /* unfitted */\n",
       "  border: var(--sklearn-color-unfitted-level-1) 1pt solid;\n",
       "  color: var(--sklearn-color-unfitted-level-1);\n",
       "}\n",
       "\n",
       ".sk-estimator-doc-link.fitted,\n",
       "a:link.sk-estimator-doc-link.fitted,\n",
       "a:visited.sk-estimator-doc-link.fitted {\n",
       "  /* fitted */\n",
       "  border: var(--sklearn-color-fitted-level-1) 1pt solid;\n",
       "  color: var(--sklearn-color-fitted-level-1);\n",
       "}\n",
       "\n",
       "/* On hover */\n",
       "div.sk-estimator:hover .sk-estimator-doc-link:hover,\n",
       ".sk-estimator-doc-link:hover,\n",
       "div.sk-label-container:hover .sk-estimator-doc-link:hover,\n",
       ".sk-estimator-doc-link:hover {\n",
       "  /* unfitted */\n",
       "  background-color: var(--sklearn-color-unfitted-level-3);\n",
       "  color: var(--sklearn-color-background);\n",
       "  text-decoration: none;\n",
       "}\n",
       "\n",
       "div.sk-estimator.fitted:hover .sk-estimator-doc-link.fitted:hover,\n",
       ".sk-estimator-doc-link.fitted:hover,\n",
       "div.sk-label-container:hover .sk-estimator-doc-link.fitted:hover,\n",
       ".sk-estimator-doc-link.fitted:hover {\n",
       "  /* fitted */\n",
       "  background-color: var(--sklearn-color-fitted-level-3);\n",
       "  color: var(--sklearn-color-background);\n",
       "  text-decoration: none;\n",
       "}\n",
       "\n",
       "/* Span, style for the box shown on hovering the info icon */\n",
       ".sk-estimator-doc-link span {\n",
       "  display: none;\n",
       "  z-index: 9999;\n",
       "  position: relative;\n",
       "  font-weight: normal;\n",
       "  right: .2ex;\n",
       "  padding: .5ex;\n",
       "  margin: .5ex;\n",
       "  width: min-content;\n",
       "  min-width: 20ex;\n",
       "  max-width: 50ex;\n",
       "  color: var(--sklearn-color-text);\n",
       "  box-shadow: 2pt 2pt 4pt #999;\n",
       "  /* unfitted */\n",
       "  background: var(--sklearn-color-unfitted-level-0);\n",
       "  border: .5pt solid var(--sklearn-color-unfitted-level-3);\n",
       "}\n",
       "\n",
       ".sk-estimator-doc-link.fitted span {\n",
       "  /* fitted */\n",
       "  background: var(--sklearn-color-fitted-level-0);\n",
       "  border: var(--sklearn-color-fitted-level-3);\n",
       "}\n",
       "\n",
       ".sk-estimator-doc-link:hover span {\n",
       "  display: block;\n",
       "}\n",
       "\n",
       "/* \"?\"-specific style due to the `<a>` HTML tag */\n",
       "\n",
       "#sk-container-id-2 a.estimator_doc_link {\n",
       "  float: right;\n",
       "  font-size: 1rem;\n",
       "  line-height: 1em;\n",
       "  font-family: monospace;\n",
       "  background-color: var(--sklearn-color-background);\n",
       "  border-radius: 1rem;\n",
       "  height: 1rem;\n",
       "  width: 1rem;\n",
       "  text-decoration: none;\n",
       "  /* unfitted */\n",
       "  color: var(--sklearn-color-unfitted-level-1);\n",
       "  border: var(--sklearn-color-unfitted-level-1) 1pt solid;\n",
       "}\n",
       "\n",
       "#sk-container-id-2 a.estimator_doc_link.fitted {\n",
       "  /* fitted */\n",
       "  border: var(--sklearn-color-fitted-level-1) 1pt solid;\n",
       "  color: var(--sklearn-color-fitted-level-1);\n",
       "}\n",
       "\n",
       "/* On hover */\n",
       "#sk-container-id-2 a.estimator_doc_link:hover {\n",
       "  /* unfitted */\n",
       "  background-color: var(--sklearn-color-unfitted-level-3);\n",
       "  color: var(--sklearn-color-background);\n",
       "  text-decoration: none;\n",
       "}\n",
       "\n",
       "#sk-container-id-2 a.estimator_doc_link.fitted:hover {\n",
       "  /* fitted */\n",
       "  background-color: var(--sklearn-color-fitted-level-3);\n",
       "}\n",
       "</style><div id=\"sk-container-id-2\" class=\"sk-top-container\"><div class=\"sk-text-repr-fallback\"><pre>LogisticRegression(max_iter=2000)</pre><b>In a Jupyter environment, please rerun this cell to show the HTML representation or trust the notebook. <br />On GitHub, the HTML representation is unable to render, please try loading this page with nbviewer.org.</b></div><div class=\"sk-container\" hidden><div class=\"sk-item\"><div class=\"sk-estimator fitted sk-toggleable\"><input class=\"sk-toggleable__control sk-hidden--visually\" id=\"sk-estimator-id-2\" type=\"checkbox\" checked><label for=\"sk-estimator-id-2\" class=\"sk-toggleable__label fitted sk-toggleable__label-arrow fitted\">&nbsp;&nbsp;LogisticRegression<a class=\"sk-estimator-doc-link fitted\" rel=\"noreferrer\" target=\"_blank\" href=\"https://scikit-learn.org/1.5/modules/generated/sklearn.linear_model.LogisticRegression.html\">?<span>Documentation for LogisticRegression</span></a><span class=\"sk-estimator-doc-link fitted\">i<span>Fitted</span></span></label><div class=\"sk-toggleable__content fitted\"><pre>LogisticRegression(max_iter=2000)</pre></div> </div></div></div></div>"
      ],
      "text/plain": [
       "LogisticRegression(max_iter=2000)"
      ]
     },
     "execution_count": 107,
     "metadata": {},
     "output_type": "execute_result"
    }
   ],
   "source": [
    "# Initialize the model\n",
    "model = LogisticRegression(max_iter=2000)  # max_iter is increased for convergence\n",
    "\n",
    "# Train the model\n",
    "model.fit(X_train, y_train)"
   ]
  },
  {
   "cell_type": "markdown",
   "id": "d3a3b377-3d22-4da6-bab8-468c88e3399d",
   "metadata": {},
   "source": [
    "## Make Prediction"
   ]
  },
  {
   "cell_type": "code",
   "execution_count": 109,
   "id": "a3913469-324e-40f2-8807-be97ec813ffe",
   "metadata": {},
   "outputs": [
    {
     "name": "stdout",
     "output_type": "stream",
     "text": [
      "y Test:  [1 0 0 1 1 0 0 0 1 1 1 0 1 0 1 0 1 1 1 0 0 1 0 1 1 1 1 1 1 0 1 1 1 1 1 1 0\n",
      " 1 0 1 1 0 1 1 1 1 1 1 1 1 0 0 1 1 1 1 1 0 0 1 1 0 0 1 1 1 0 0 1 1 0 0 1 0\n",
      " 1 1 1 0 1 1 0 1 0 0 0 0 0 0 1 1 1 1 1 1 1 1 0 0 1 0 0 1 0 0 1 1 1 0 1 1 0\n",
      " 1 1 0 1 0 1 1 1 0 1 1 1 0 1 0 0 1 1 0 0 0 1 1 1 0 1 1 1 0 1 0 1 1 0 1 0 0\n",
      " 0 1 0 1 1 1 1 0 0 1 1 1 1 1 1 1 0 1 1 1 1 0 1]\n",
      "y Predict:  [1 0 0 1 1 0 0 0 1 1 1 0 1 0 1 0 1 1 1 0 0 1 0 1 1 1 1 1 1 0 1 1 1 1 1 1 0\n",
      " 1 0 1 1 0 1 1 1 1 1 1 1 1 0 0 1 1 1 1 1 0 1 1 1 0 0 1 1 1 0 0 1 1 0 0 1 0\n",
      " 1 1 1 0 1 1 0 1 1 0 0 0 0 0 1 1 1 1 1 1 1 1 0 0 1 0 0 1 0 0 1 1 1 0 1 1 0\n",
      " 1 1 0 1 0 1 1 1 0 1 1 1 0 1 0 0 1 1 0 0 0 1 1 0 0 1 1 1 0 1 0 1 1 0 1 0 0\n",
      " 0 1 0 1 1 1 1 0 0 1 1 1 1 1 1 1 0 1 1 1 1 1 1]\n",
      "y Predict_Probability:  [6.93937902e-01 2.20303902e-07 3.81898447e-03 9.86906614e-01\n",
      " 9.89319997e-01 6.55548330e-06 2.42401540e-08 2.63761490e-02\n",
      " 9.50161263e-01 8.73246252e-01 9.44616573e-01 3.77465049e-03\n",
      " 8.86473802e-01 4.92249257e-01 9.61011846e-01 1.02860304e-01\n",
      " 9.16561516e-01 9.95868370e-01 9.98143231e-01 1.85377619e-05\n",
      " 3.77941032e-01 9.49395248e-01 1.96112256e-07 9.91303401e-01\n",
      " 9.87122284e-01 9.79110410e-01 9.57889246e-01 9.95555891e-01\n",
      " 9.66061497e-01 4.82323109e-07 9.89901879e-01 9.73319004e-01\n",
      " 9.86763327e-01 5.63513882e-01 9.92277443e-01 9.71042703e-01\n",
      " 1.02072585e-02 9.60547783e-01 1.88641551e-05 7.44463739e-01\n",
      " 9.90305632e-01 2.42946694e-02 9.85357649e-01 9.48848320e-01\n",
      " 9.91428962e-01 9.53405428e-01 9.93444697e-01 9.94242885e-01\n",
      " 9.31758495e-01 9.65459774e-01 1.36394632e-04 9.73002416e-06\n",
      " 9.27161211e-01 9.66057676e-01 9.79238075e-01 8.27468917e-01\n",
      " 9.91053109e-01 1.06595090e-08 6.74329859e-01 9.86322892e-01\n",
      " 9.26782937e-01 2.97537083e-05 2.31049455e-06 9.15017259e-01\n",
      " 9.73472528e-01 9.10379228e-01 4.72356132e-04 4.46989384e-04\n",
      " 9.85926904e-01 9.16016877e-01 4.24434037e-01 2.45909047e-04\n",
      " 9.47574383e-01 4.85745127e-01 9.95699713e-01 9.14065474e-01\n",
      " 8.88311369e-01 3.78262342e-01 9.83329211e-01 9.78429330e-01\n",
      " 7.09524017e-03 9.70541854e-01 6.66477064e-01 4.65640309e-07\n",
      " 6.73998161e-03 2.80671875e-01 4.85119606e-01 3.25049354e-04\n",
      " 9.90087673e-01 9.54167710e-01 9.36399436e-01 7.43702065e-01\n",
      " 5.77339971e-01 9.90452963e-01 9.91448193e-01 9.90533505e-01\n",
      " 4.87135342e-05 2.90491659e-04 9.89602486e-01 4.54823846e-03\n",
      " 3.83740246e-04 9.94433262e-01 9.28849628e-06 3.07134618e-03\n",
      " 9.36316767e-01 9.36186964e-01 9.67741567e-01 2.11827759e-12\n",
      " 8.22134859e-01 6.23043639e-01 2.66675175e-03 9.78155303e-01\n",
      " 7.86665081e-01 6.51540717e-21 9.92868896e-01 3.05442655e-08\n",
      " 9.95736686e-01 9.73195766e-01 9.93250213e-01 9.73515967e-02\n",
      " 8.44761157e-01 9.87598004e-01 9.55723058e-01 1.55535380e-04\n",
      " 9.49109218e-01 5.08739030e-07 4.90044372e-03 9.85356954e-01\n",
      " 9.16111696e-01 1.32619891e-06 6.68002376e-10 3.63657632e-01\n",
      " 5.46698853e-01 9.85496730e-01 3.09196333e-01 9.16570556e-02\n",
      " 9.01739910e-01 9.90540054e-01 7.07573246e-01 7.98382595e-03\n",
      " 9.75718077e-01 9.79676692e-12 9.89772365e-01 9.77088725e-01\n",
      " 1.51329893e-01 9.46359897e-01 3.36854296e-04 4.55560740e-04\n",
      " 1.19312421e-01 8.78227564e-01 3.61709962e-02 9.80953897e-01\n",
      " 9.97511087e-01 8.32381179e-01 9.89271863e-01 1.77675826e-09\n",
      " 1.08928292e-02 9.93354017e-01 8.66834766e-01 9.93287258e-01\n",
      " 9.97705277e-01 9.91786335e-01 9.70945276e-01 9.80211411e-01\n",
      " 2.89469887e-01 9.76205235e-01 9.82464367e-01 6.56381161e-01\n",
      " 9.86957349e-01 5.65248712e-01 9.04545458e-01]\n"
     ]
    },
    {
     "name": "stderr",
     "output_type": "stream",
     "text": [
      "C:\\Users\\HP ZBOOK 15 G3\\AppData\\Local\\Temp\\ipykernel_21508\\2111921797.py:4: FutureWarning: Series.ravel is deprecated. The underlying array is already 1D, so ravel is not necessary.  Use `to_numpy()` for conversion to a numpy array instead.\n",
      "  print(\"y Test: \",y_test.ravel())\n"
     ]
    }
   ],
   "source": [
    "# Predict on the test set\n",
    "y_pred = model.predict(X_test)\n",
    "y_pred_proba = model.predict_proba(X_test)[:, 1]  # Probabilities for the positive class (1)\n",
    "print(\"y Test: \",y_test.ravel())\n",
    "print(\"y Predict: \",y_pred.ravel())\n",
    "print(\"y Predict_Probability: \",y_pred_proba.ravel())"
   ]
  },
  {
   "cell_type": "code",
   "execution_count": 147,
   "id": "8a5eda43-b4a6-4122-9658-809d7ff4a3c4",
   "metadata": {},
   "outputs": [
    {
     "data": {
      "text/plain": [
       "array([6.93937902e-01, 2.20303902e-07, 3.81898447e-03, 9.86906614e-01,\n",
       "       9.89319997e-01, 6.55548330e-06, 2.42401540e-08, 2.63761490e-02,\n",
       "       9.50161263e-01, 8.73246252e-01, 9.44616573e-01, 3.77465049e-03,\n",
       "       8.86473802e-01, 4.92249257e-01, 9.61011846e-01, 1.02860304e-01,\n",
       "       9.16561516e-01, 9.95868370e-01, 9.98143231e-01, 1.85377619e-05,\n",
       "       3.77941032e-01, 9.49395248e-01, 1.96112256e-07, 9.91303401e-01,\n",
       "       9.87122284e-01, 9.79110410e-01, 9.57889246e-01, 9.95555891e-01,\n",
       "       9.66061497e-01, 4.82323109e-07, 9.89901879e-01, 9.73319004e-01,\n",
       "       9.86763327e-01, 5.63513882e-01, 9.92277443e-01, 9.71042703e-01,\n",
       "       1.02072585e-02, 9.60547783e-01, 1.88641551e-05, 7.44463739e-01,\n",
       "       9.90305632e-01, 2.42946694e-02, 9.85357649e-01, 9.48848320e-01,\n",
       "       9.91428962e-01, 9.53405428e-01, 9.93444697e-01, 9.94242885e-01,\n",
       "       9.31758495e-01, 9.65459774e-01, 1.36394632e-04, 9.73002416e-06,\n",
       "       9.27161211e-01, 9.66057676e-01, 9.79238075e-01, 8.27468917e-01,\n",
       "       9.91053109e-01, 1.06595090e-08, 6.74329859e-01, 9.86322892e-01,\n",
       "       9.26782937e-01, 2.97537083e-05, 2.31049455e-06, 9.15017259e-01,\n",
       "       9.73472528e-01, 9.10379228e-01, 4.72356132e-04, 4.46989384e-04,\n",
       "       9.85926904e-01, 9.16016877e-01, 4.24434037e-01, 2.45909047e-04,\n",
       "       9.47574383e-01, 4.85745127e-01, 9.95699713e-01, 9.14065474e-01,\n",
       "       8.88311369e-01, 3.78262342e-01, 9.83329211e-01, 9.78429330e-01,\n",
       "       7.09524017e-03, 9.70541854e-01, 6.66477064e-01, 4.65640309e-07,\n",
       "       6.73998161e-03, 2.80671875e-01, 4.85119606e-01, 3.25049354e-04,\n",
       "       9.90087673e-01, 9.54167710e-01, 9.36399436e-01, 7.43702065e-01,\n",
       "       5.77339971e-01, 9.90452963e-01, 9.91448193e-01, 9.90533505e-01,\n",
       "       4.87135342e-05, 2.90491659e-04, 9.89602486e-01, 4.54823846e-03,\n",
       "       3.83740246e-04, 9.94433262e-01, 9.28849628e-06, 3.07134618e-03,\n",
       "       9.36316767e-01, 9.36186964e-01, 9.67741567e-01, 2.11827759e-12,\n",
       "       8.22134859e-01, 6.23043639e-01, 2.66675175e-03, 9.78155303e-01,\n",
       "       7.86665081e-01, 6.51540717e-21, 9.92868896e-01, 3.05442655e-08,\n",
       "       9.95736686e-01, 9.73195766e-01, 9.93250213e-01, 9.73515967e-02,\n",
       "       8.44761157e-01, 9.87598004e-01, 9.55723058e-01, 1.55535380e-04,\n",
       "       9.49109218e-01, 5.08739030e-07, 4.90044372e-03, 9.85356954e-01,\n",
       "       9.16111696e-01, 1.32619891e-06, 6.68002376e-10, 3.63657632e-01,\n",
       "       5.46698853e-01, 9.85496730e-01, 3.09196333e-01, 9.16570556e-02,\n",
       "       9.01739910e-01, 9.90540054e-01, 7.07573246e-01, 7.98382595e-03,\n",
       "       9.75718077e-01, 9.79676692e-12, 9.89772365e-01, 9.77088725e-01,\n",
       "       1.51329893e-01, 9.46359897e-01, 3.36854296e-04, 4.55560740e-04,\n",
       "       1.19312421e-01, 8.78227564e-01, 3.61709962e-02, 9.80953897e-01,\n",
       "       9.97511087e-01, 8.32381179e-01, 9.89271863e-01, 1.77675826e-09,\n",
       "       1.08928292e-02, 9.93354017e-01, 8.66834766e-01, 9.93287258e-01,\n",
       "       9.97705277e-01, 9.91786335e-01, 9.70945276e-01, 9.80211411e-01,\n",
       "       2.89469887e-01, 9.76205235e-01, 9.82464367e-01, 6.56381161e-01,\n",
       "       9.86957349e-01, 5.65248712e-01, 9.04545458e-01])"
      ]
     },
     "execution_count": 147,
     "metadata": {},
     "output_type": "execute_result"
    }
   ],
   "source": [
    "y_pred_proba"
   ]
  },
  {
   "cell_type": "markdown",
   "id": "b7b4dbdc-41a5-47a0-b6ac-9b6c29202559",
   "metadata": {
    "jp-MarkdownHeadingCollapsed": true
   },
   "source": [
    "## Evaluate the Model"
   ]
  },
  {
   "cell_type": "code",
   "execution_count": 111,
   "id": "21bdedab-831e-46ab-963e-32b500a9a0a2",
   "metadata": {},
   "outputs": [
    {
     "name": "stdout",
     "output_type": "stream",
     "text": [
      "Accuracy: 0.9766081871345029\n",
      "Confusion Matrix:\n",
      " [[ 60   3]\n",
      " [  1 107]]\n",
      "Classification Report:\n",
      "               precision    recall  f1-score   support\n",
      "\n",
      "           0       0.98      0.95      0.97        63\n",
      "           1       0.97      0.99      0.98       108\n",
      "\n",
      "    accuracy                           0.98       171\n",
      "   macro avg       0.98      0.97      0.97       171\n",
      "weighted avg       0.98      0.98      0.98       171\n",
      "\n"
     ]
    }
   ],
   "source": [
    "# Accuracy\n",
    "print(\"Accuracy:\", accuracy_score(y_test, y_pred))\n",
    "\n",
    "# Confusion Matrix\n",
    "print(\"Confusion Matrix:\\n\", confusion_matrix(y_test, y_pred))\n",
    "\n",
    "# Classification Report\n",
    "print(\"Classification Report:\\n\", classification_report(y_test, y_pred))"
   ]
  },
  {
   "cell_type": "markdown",
   "id": "93f07300-4436-4ea9-b921-4a256d581056",
   "metadata": {},
   "source": [
    "## Visualize the Result"
   ]
  },
  {
   "cell_type": "code",
   "execution_count": 139,
   "id": "97319401-71a2-431f-941d-87c3f6d2c22c",
   "metadata": {},
   "outputs": [
    {
     "data": {
      "image/png": "[encoded data removed]",
      "text/plain": [
       "<Figure size 1000x800 with 1 Axes>"
      ]
     },
     "metadata": {},
     "output_type": "display_data"
    }
   ],
   "source": [
    "# Visualize decision boundary\n",
    "x_min, x_max = X_pca[:, 0].min() - 1, X_pca[:, 0].max() + 1\n",
    "y_min, y_max = X_pca[:, 1].min() - 1, X_pca[:, 1].max() + 1\n",
    "xx, yy = np.meshgrid(np.linspace(x_min, x_max, 100), np.linspace(y_min, y_max, 100))\n",
    "\n",
    "# Predict probabilities for grid points\n",
    "Z = model.predict_proba(np.c_[xx.ravel(), yy.ravel()])[:, 1]\n",
    "Z = Z.reshape(xx.shape)\n",
    "\n",
    "# Plot\n",
    "plt.figure(figsize=(10, 8))\n",
    "plt.contourf(xx, yy, Z, levels=[0, 0.5, 1], colors=[\"blue\", \"red\"], alpha=0.3)\n",
    "plt.scatter(X_pca[y == 0, 0], X_pca[y == 0, 1], color=\"blue\", label=\"Class 0 (Malignant)\")\n",
    "plt.scatter(X_pca[y == 1, 0], X_pca[y == 1, 1], color=\"red\", label=\"Class 1 (Benign)\")\n",
    "plt.title(\"Logistic Regression Decision Boundary on Breast Cancer Dataset\")\n",
    "plt.xlabel(\"Principal Component 1\")\n",
    "plt.ylabel(\"Principal Component 2\")\n",
    "plt.legend()\n",
    "plt.show()"
   ]
  },
  {
   "cell_type": "code",
   "execution_count": 145,
   "id": "5746b45b-a449-4b86-927f-1b48500a36d7",
   "metadata": {},
   "outputs": [
    {
     "data": {
      "text/plain": [
       "array([[6.16469799e-05, 3.70118218e-05, 2.22210637e-05, ...,\n",
       "        1.97915815e-26, 1.18822438e-26, 7.13372585e-27],\n",
       "       [9.04645577e-05, 5.43140419e-05, 3.26091522e-05, ...,\n",
       "        2.90442171e-26, 1.74372355e-26, 1.04687684e-26],\n",
       "       [1.32751450e-04, 7.97040281e-05, 4.78533187e-05, ...,\n",
       "        4.26224931e-26, 2.55892058e-26, 1.53629552e-26],\n",
       "       ...,\n",
       "       [1.00000000e+00, 1.00000000e+00, 1.00000000e+00, ...,\n",
       "        2.84879027e-10, 1.71032418e-10, 1.02682490e-10],\n",
       "       [1.00000000e+00, 1.00000000e+00, 1.00000000e+00, ...,\n",
       "        4.18060997e-10, 2.50990688e-10, 1.50686924e-10],\n",
       "       [1.00000000e+00, 1.00000000e+00, 1.00000000e+00, ...,\n",
       "        6.13506017e-10, 3.68329738e-10, 2.21133603e-10]])"
      ]
     },
     "execution_count": 145,
     "metadata": {},
     "output_type": "execute_result"
    }
   ],
   "source": [
    "Z"
   ]
  },
  {
   "cell_type": "code",
   "execution_count": 114,
   "id": "253796e0-6d86-44ca-b28d-6c77249c6c31",
   "metadata": {},
   "outputs": [
    {
     "name": "stdout",
     "output_type": "stream",
     "text": [
      "g [0.  0.1 0.2 0.3 0.4 0.5 0.6 0.7 0.8 0.9 1. ]\n",
      "h [0.  0.2 0.4 0.6 0.8 1.  1.2 1.4 1.6 1.8 2. ]\n"
     ]
    }
   ],
   "source": [
    "s=1\n",
    "d=2\n",
    "n=10\n",
    "g = np.linspace(0,s,n+1)\n",
    "h = np.linspace(0,d,n+1)\n",
    "print('g',g)\n",
    "print('h',h)"
   ]
  },
  {
   "cell_type": "code",
   "execution_count": 115,
   "id": "d65b845e-8a2d-4cc7-bc22-21c432c5d474",
   "metadata": {},
   "outputs": [
    {
     "data": {
      "text/plain": [
       "array([0. , 0.1, 0.2, 0.3, 0.4, 0.5, 0.6, 0.7, 0.8, 0.9, 1. ])"
      ]
     },
     "execution_count": 115,
     "metadata": {},
     "output_type": "execute_result"
    }
   ],
   "source": [
    "g"
   ]
  },
  {
   "cell_type": "code",
   "execution_count": 116,
   "id": "1340b899-2e21-4e22-b13c-0a825da7bc1d",
   "metadata": {},
   "outputs": [
    {
     "data": {
      "text/plain": [
       "array([0. , 0.2, 0.4, 0.6, 0.8, 1. , 1.2, 1.4, 1.6, 1.8, 2. ])"
      ]
     },
     "execution_count": 116,
     "metadata": {},
     "output_type": "execute_result"
    }
   ],
   "source": [
    "h"
   ]
  },
  {
   "cell_type": "code",
   "execution_count": 117,
   "id": "2f064f60-51b0-47cd-9b6b-775883d12bee",
   "metadata": {},
   "outputs": [],
   "source": [
    "j,k = np.meshgrid(g,h)"
   ]
  },
  {
   "cell_type": "code",
   "execution_count": 118,
   "id": "2c0595ed-b6d6-4ced-83a0-bf5565d33480",
   "metadata": {},
   "outputs": [
    {
     "data": {
      "text/plain": [
       "(11, 11)"
      ]
     },
     "execution_count": 118,
     "metadata": {},
     "output_type": "execute_result"
    }
   ],
   "source": [
    "j.shape"
   ]
  },
  {
   "cell_type": "code",
   "execution_count": 119,
   "id": "c2b7ebd2-8653-4989-8293-a0d44ed42f16",
   "metadata": {},
   "outputs": [
    {
     "data": {
      "text/plain": [
       "(11, 11)"
      ]
     },
     "execution_count": 119,
     "metadata": {},
     "output_type": "execute_result"
    }
   ],
   "source": [
    "k.shape"
   ]
  },
  {
   "cell_type": "code",
   "execution_count": 120,
   "id": "a89a9778-10f1-4211-bb04-0a257ff90979",
   "metadata": {},
   "outputs": [],
   "source": [
    "f = np.sin(2*j)*np.cos(k)"
   ]
  },
  {
   "cell_type": "code",
   "execution_count": 121,
   "id": "618bebaa-d606-43cf-99e2-327efbd32c62",
   "metadata": {},
   "outputs": [
    {
     "data": {
      "image/png": "[encoded data removed]",
      "text/plain": [
       "<Figure size 640x480 with 2 Axes>"
      ]
     },
     "metadata": {},
     "output_type": "display_data"
    }
   ],
   "source": [
    "plt.contourf(j,k,f,levels = 20)\n",
    "plt.colorbar()\n",
    "plt.show()"
   ]
  },
  {
   "cell_type": "code",
   "execution_count": null,
   "id": "e2d30276-c76a-44da-a0bc-65f31b54996d",
   "metadata": {},
   "outputs": [],
   "source": []
  }
 ],
 "metadata": {
  "kernelspec": {
   "display_name": "Python 3 (ipykernel)",
   "language": "python",
   "name": "python3"
  },
  "language_info": {
   "codemirror_mode": {
    "name": "ipython",
    "version": 3
   },
   "file_extension": ".py",
   "mimetype": "text/x-python",
   "name": "python",
   "nbconvert_exporter": "python",
   "pygments_lexer": "ipython3",
   "version": "3.12.7"
  }
 },
 "nbformat": 4,
 "nbformat_minor": 5
}
